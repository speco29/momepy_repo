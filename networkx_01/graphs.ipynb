{
 "cells": [
  {
   "cell_type": "markdown",
   "id": "c99af80b-4dd8-4372-9466-b3ff42dcd73d",
   "metadata": {},
   "source": [
    "#### Here, we are creating an empty graph with no nodes and no edges to learn and start working with NetworkX."
   ]
  },
  {
   "cell_type": "code",
   "execution_count": 1,
   "id": "05dd8e62-d87a-4848-b892-2912d68b8626",
   "metadata": {},
   "outputs": [
    {
     "name": "stdout",
     "output_type": "stream",
     "text": [
      "Requirement already satisfied: networkx in c:\\users\\dia\\anaconda3\\lib\\site-packages (3.1)\n"
     ]
    }
   ],
   "source": [
    "!pip install networkx"
   ]
  },
  {
   "cell_type": "code",
   "execution_count": 3,
   "id": "f58d59fe-c56c-4df3-8fbb-d859564eb418",
   "metadata": {},
   "outputs": [],
   "source": [
    "import networkx as nx\n",
    "G = nx.Graph()"
   ]
  },
  {
   "cell_type": "code",
   "execution_count": 4,
   "id": "3981637a-5cc0-4118-99b0-90e96ab024aa",
   "metadata": {},
   "outputs": [
    {
     "data": {
      "text/plain": [
       "<networkx.classes.graph.Graph at 0x2bc70f51990>"
      ]
     },
     "execution_count": 4,
     "metadata": {},
     "output_type": "execute_result"
    }
   ],
   "source": [
    "G"
   ]
  },
  {
   "cell_type": "markdown",
   "id": "830ce647-a8de-46dc-a7d7-7056783dd73f",
   "metadata": {},
   "source": [
    "#### This created graph has nodes(vertices) along with identified pairs of nodes (called edges, links, etc)."
   ]
  },
  {
   "cell_type": "code",
   "execution_count": 6,
   "id": "24eb959a-a2fb-4146-96b6-e63767974fba",
   "metadata": {},
   "outputs": [],
   "source": [
    "G.add_node(1)   # Function to add node."
   ]
  },
  {
   "cell_type": "code",
   "execution_count": 7,
   "id": "c1d1aff7-ef80-4551-a8bc-4cb7375551c8",
   "metadata": {},
   "outputs": [],
   "source": [
    "G.add_nodes_from([2,3]) # function to add nodes from iterable conatiner."
   ]
  },
  {
   "cell_type": "code",
   "execution_count": 9,
   "id": "86372fc2-07f3-42ce-b084-669787bae176",
   "metadata": {},
   "outputs": [],
   "source": [
    "G.add_nodes_from([(4, {\"color\":\"red\"}), (5, {\"color\" : \"green\"})])  # function to add nodes along with node attributes when your container yields 2-tuples."
   ]
  },
  {
   "cell_type": "code",
   "execution_count": 10,
   "id": "0b85ebb6-2829-4480-9b8e-8982bd38af7d",
   "metadata": {},
   "outputs": [],
   "source": [
    "H = nx.path_graph(10)\n",
    "G.add_nodes_from(H)  # G now contains the nodes of H"
   ]
  },
  {
   "cell_type": "markdown",
   "id": "b25da4a5-5842-41c9-aeda-434339d7ac15",
   "metadata": {},
   "source": [
    "### Edges\n",
    "\n",
    "#### G can also be grown by adding one edge at a time"
   ]
  },
  {
   "cell_type": "code",
   "execution_count": 13,
   "id": "1f50ae26-8a25-404e-825e-3149c9856817",
   "metadata": {},
   "outputs": [],
   "source": [
    "G.add_edge(1,2)\n",
    "e=(2,3)\n",
    "G.add_edge(*e)  # unpack edge tuple*"
   ]
  },
  {
   "cell_type": "code",
   "execution_count": 14,
   "id": "41a68fe7-97c3-4744-976a-d1bb0edc1e22",
   "metadata": {},
   "outputs": [
    {
     "data": {
      "text/plain": [
       "<networkx.classes.graph.Graph at 0x2bc70f51990>"
      ]
     },
     "execution_count": 14,
     "metadata": {},
     "output_type": "execute_result"
    }
   ],
   "source": [
    "G"
   ]
  },
  {
   "cell_type": "code",
   "execution_count": 15,
   "id": "a1a9cdb1-4bfe-46f3-980b-2932a145524a",
   "metadata": {},
   "outputs": [],
   "source": [
    "G.add_edges_from([(1, 2), (1, 3)])\n"
   ]
  },
  {
   "cell_type": "code",
   "execution_count": 16,
   "id": "97f7758e-9a69-48fe-84c0-fa0d176f4657",
   "metadata": {},
   "outputs": [],
   "source": [
    "G.add_edges_from(H.edges)\n"
   ]
  },
  {
   "cell_type": "code",
   "execution_count": 17,
   "id": "6a3ff55f-fa66-4872-9fd5-316f5ae6b198",
   "metadata": {},
   "outputs": [],
   "source": [
    "G.clear()  #clearing all the edges and nodes"
   ]
  },
  {
   "cell_type": "markdown",
   "id": "51f2d52a-afee-4275-befb-d4ac89b7d742",
   "metadata": {},
   "source": [
    "#### Here, we are adding new nodes/edges and NetworkX quietly ignored any that are already present."
   ]
  },
  {
   "cell_type": "code",
   "execution_count": 18,
   "id": "d55236c2-416b-4a0c-8687-73f62449dc0c",
   "metadata": {},
   "outputs": [],
   "source": [
    "G.add_edges_from([(1, 2), (1, 3)])\n",
    "G.add_node(1)\n",
    "G.add_edge(1, 2)\n",
    "G.add_node(\"spam\")        # adds node \"spam\"\n",
    "G.add_nodes_from(\"spam\")  # adds 4 nodes: 's', 'p', 'a', 'm'\n",
    "G.add_edge(3, 'm')"
   ]
  },
  {
   "cell_type": "markdown",
   "id": "26005c89-6def-438a-848c-46b0f543bf7b",
   "metadata": {},
   "source": [
    "#### by the code above, the graph G should have 8 nodes and 3 edges"
   ]
  },
  {
   "cell_type": "code",
   "execution_count": 19,
   "id": "5682e5ca-83b3-459f-894b-59800902b4aa",
   "metadata": {},
   "outputs": [
    {
     "data": {
      "text/plain": [
       "8"
      ]
     },
     "execution_count": 19,
     "metadata": {},
     "output_type": "execute_result"
    }
   ],
   "source": [
    "G.number_of_nodes()\n"
   ]
  },
  {
   "cell_type": "code",
   "execution_count": 21,
   "id": "7b2bf9bb-840a-40ea-8d4a-d59d13e574d5",
   "metadata": {},
   "outputs": [
    {
     "data": {
      "text/plain": [
       "3"
      ]
     },
     "execution_count": 21,
     "metadata": {},
     "output_type": "execute_result"
    }
   ],
   "source": [
    "G.number_of_edges()"
   ]
  },
  {
   "cell_type": "markdown",
   "id": "1ab32f6d-34c4-4310-b474-c6a57b72ba6d",
   "metadata": {},
   "source": [
    "### the order of G.edges is the order of the adjacencies which includes both the order of the nodes and each node’s adjacencies. See example below:\n",
    "\n"
   ]
  },
  {
   "cell_type": "code",
   "execution_count": 22,
   "id": "806a161b-78b5-4690-a3a5-b276450926e4",
   "metadata": {},
   "outputs": [],
   "source": [
    "DG = nx.DiGraph()\n",
    "DG.add_edge(2, 1)   # adds the nodes in order 2, 1\n",
    "DG.add_edge(1, 3)\n",
    "DG.add_edge(2, 4)\n",
    "DG.add_edge(1, 2)\n",
    "assert list(DG.successors(2)) == [1, 4]\n",
    "assert list(DG.edges) == [(2, 1), (2, 4), (1, 3), (1, 2)]"
   ]
  },
  {
   "cell_type": "code",
   "execution_count": 23,
   "id": "e079acd0-f94b-46d9-9c33-887c163143a4",
   "metadata": {},
   "outputs": [
    {
     "data": {
      "text/plain": [
       "[1, 2, 3, 'spam', 's', 'p', 'a', 'm']"
      ]
     },
     "execution_count": 23,
     "metadata": {},
     "output_type": "execute_result"
    }
   ],
   "source": [
    "list(G.nodes)"
   ]
  },
  {
   "cell_type": "code",
   "execution_count": 24,
   "id": "75847aa3-3f70-430e-b44a-aa769313ae4b",
   "metadata": {},
   "outputs": [
    {
     "data": {
      "text/plain": [
       "[(1, 2), (1, 3), (3, 'm')]"
      ]
     },
     "execution_count": 24,
     "metadata": {},
     "output_type": "execute_result"
    }
   ],
   "source": [
    "list(G.edges)"
   ]
  },
  {
   "cell_type": "code",
   "execution_count": 25,
   "id": "58d81db1-03bc-42a5-b6dd-8d95b8757e9b",
   "metadata": {},
   "outputs": [
    {
     "data": {
      "text/plain": [
       "[2, 3]"
      ]
     },
     "execution_count": 25,
     "metadata": {},
     "output_type": "execute_result"
    }
   ],
   "source": [
    "list(G.adj[1])  # or list(G.neighbors(1))\n"
   ]
  },
  {
   "cell_type": "code",
   "execution_count": 26,
   "id": "9859a41c-c1b6-48fa-8dc6-61314bdb617c",
   "metadata": {},
   "outputs": [
    {
     "data": {
      "text/plain": [
       "2"
      ]
     },
     "execution_count": 26,
     "metadata": {},
     "output_type": "execute_result"
    }
   ],
   "source": [
    "G.degree[1]  # the number of edges incident to 1\n"
   ]
  },
  {
   "cell_type": "code",
   "execution_count": 27,
   "id": "196bcc02-5502-4d6c-b3da-2a6c422e95ed",
   "metadata": {},
   "outputs": [
    {
     "data": {
      "text/plain": [
       "EdgeDataView([(2, 1), ('m', 3)])"
      ]
     },
     "execution_count": 27,
     "metadata": {},
     "output_type": "execute_result"
    }
   ],
   "source": [
    "G.edges([2, 'm'])\n"
   ]
  },
  {
   "cell_type": "code",
   "execution_count": 29,
   "id": "e0e69bc3-2c3a-4230-b178-ac0d2745cc4d",
   "metadata": {},
   "outputs": [
    {
     "data": {
      "text/plain": [
       "DegreeView({2: 1, 3: 2})"
      ]
     },
     "execution_count": 29,
     "metadata": {},
     "output_type": "execute_result"
    }
   ],
   "source": [
    "\n",
    "G.degree([2, 3])\n"
   ]
  },
  {
   "cell_type": "markdown",
   "id": "c3b132e5-e9d2-4f71-b962-4c7ea3519684",
   "metadata": {},
   "source": [
    "### Removing elements from a graph"
   ]
  },
  {
   "cell_type": "code",
   "execution_count": 30,
   "id": "9ae6090d-11d3-4361-997e-bb8117d565b1",
   "metadata": {},
   "outputs": [
    {
     "data": {
      "text/plain": [
       "[1, 3, 'spam']"
      ]
     },
     "execution_count": 30,
     "metadata": {},
     "output_type": "execute_result"
    }
   ],
   "source": [
    "G.remove_node(2)\n",
    "G.remove_nodes_from(\"spam\")\n",
    "list(G.nodes)"
   ]
  },
  {
   "cell_type": "code",
   "execution_count": 31,
   "id": "6cf84a46-649e-4cd4-af90-cd35f0c2f35e",
   "metadata": {},
   "outputs": [
    {
     "data": {
      "text/plain": [
       "[1, 3, 'spam']"
      ]
     },
     "execution_count": 31,
     "metadata": {},
     "output_type": "execute_result"
    }
   ],
   "source": [
    "G.remove_edge(1, 3)\n",
    "list(G)\n"
   ]
  },
  {
   "cell_type": "markdown",
   "id": "d79ce8c9-42ea-4ed9-9ddb-7a6d0a857e2f",
   "metadata": {},
   "source": [
    "### Here we will be using the graph constructors"
   ]
  },
  {
   "cell_type": "code",
   "execution_count": 32,
   "id": "d0431892-4d25-412c-b5cb-e7bbfec397d4",
   "metadata": {},
   "outputs": [
    {
     "data": {
      "text/plain": [
       "[(1, 2), (2, 1)]"
      ]
     },
     "execution_count": 32,
     "metadata": {},
     "output_type": "execute_result"
    }
   ],
   "source": [
    "G.add_edge(1, 2)\n",
    "H = nx.DiGraph(G)  # create a DiGraph using the connections from G\n",
    "list(H.edges())"
   ]
  },
  {
   "cell_type": "code",
   "execution_count": 33,
   "id": "3d3a61b7-8740-41cb-a7d7-efea17ee48f2",
   "metadata": {},
   "outputs": [
    {
     "data": {
      "text/plain": [
       "[(0, 1), (1, 2), (2, 3)]"
      ]
     },
     "execution_count": 33,
     "metadata": {},
     "output_type": "execute_result"
    }
   ],
   "source": [
    "edgelist = [(0, 1), (1, 2), (2, 3)]\n",
    "H = nx.Graph(edgelist)  # create a graph from an edge list\n",
    "list(H.edges())\n"
   ]
  },
  {
   "cell_type": "code",
   "execution_count": 34,
   "id": "5bae4028-03c2-4b4b-99a6-a1b98a7f59fa",
   "metadata": {},
   "outputs": [
    {
     "data": {
      "text/plain": [
       "[(0, 1), (0, 2), (1, 2)]"
      ]
     },
     "execution_count": 34,
     "metadata": {},
     "output_type": "execute_result"
    }
   ],
   "source": [
    "adjacency_dict = {0: (1, 2), 1: (0, 2), 2: (0, 1)}\n",
    "H = nx.Graph(adjacency_dict)  # create a Graph dict mapping nodes to nbrs\n",
    "list(H.edges())"
   ]
  },
  {
   "cell_type": "code",
   "execution_count": null,
   "id": "0b551926-45bb-408a-91a5-4f902421e9d6",
   "metadata": {},
   "outputs": [],
   "source": []
  }
 ],
 "metadata": {
  "kernelspec": {
   "display_name": "Python 3 (ipykernel)",
   "language": "python",
   "name": "python3"
  },
  "language_info": {
   "codemirror_mode": {
    "name": "ipython",
    "version": 3
   },
   "file_extension": ".py",
   "mimetype": "text/x-python",
   "name": "python",
   "nbconvert_exporter": "python",
   "pygments_lexer": "ipython3",
   "version": "3.11.7"
  }
 },
 "nbformat": 4,
 "nbformat_minor": 5
}
