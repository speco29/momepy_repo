{
 "cells": [
  {
   "cell_type": "markdown",
   "id": "2d6183c1-27ff-4b6b-8f43-62ba3dc61b5e",
   "metadata": {},
   "source": [
    "### Here, we will demonstarte an example that tessellates the space around a given street network"
   ]
  },
  {
   "cell_type": "markdown",
   "id": "27bae3ee-c925-47f2-8661-ecd962190124",
   "metadata": {},
   "source": [
    "### We are using networkx to analyze the street network and combine it with momepy for tessellation"
   ]
  },
  {
   "cell_type": "code",
   "execution_count": null,
   "id": "13f044d2-2e9d-4f17-a872-4ee0bbcd8481",
   "metadata": {},
   "outputs": [],
   "source": [
    "import osmnx as ox\n",
    "import momepy\n",
    "import geopandas as gpd\n",
    "import matplotlib.pyplot as plt\n",
    "\n",
    "# Load a street network using OSMnx\n",
    "place = \"Jaipur, India\"\n",
    "G = ox.graph_from_place(place, network_type='drive')\n",
    "edges = ox.graph_to_gdfs(G, nodes=False)  # Extract edges as GeoDataFrame\n",
    "\n",
    "# Buffer the streets to create a simulated impact area\n",
    "edges['geometry'] = edges.buffer(0.001)  # Adjust buffer size as needed\n",
    "\n",
    "# Create a boundary for tessellation\n",
    "boundary = edges.unary_union.convex_hull\n",
    "\n",
    "# Generate morphological tessellation\n",
    "tessellation = momepy.Tessellation(edges, unique_id='geometry', limit=boundary)\n",
    "\n",
    "# Plot the tessellation\n",
    "fig, ax = plt.subplots(figsize=(10, 10))\n",
    "tessellation.tessellation.plot(ax=ax, color='lightgreen', edgecolor='black', alpha=0.5)\n",
    "edges.plot(ax=ax, color='blue', label='Streets', alpha=0.7)\n",
    "plt.title(\"Street-Based Tessellation with Momepy\")\n",
    "plt.legend()\n",
    "plt.show()\n"
   ]
  },
  {
   "cell_type": "markdown",
   "id": "fa2100f6-dde8-4062-a0f5-ae13e528cd40",
   "metadata": {},
   "source": [
    "### Enhancing Tessellation with Graph Metrics"
   ]
  },
  {
   "cell_type": "code",
   "execution_count": null,
   "id": "a400bebd-1b93-4699-9e48-f28c4dff4622",
   "metadata": {},
   "outputs": [],
   "source": [
    "import networkx as nx\n",
    "\n",
    "# Calculate centrality metrics\n",
    "G_nx = ox.graph_from_place(place, network_type='drive')\n",
    "centrality = nx.betweenness_centrality(G_nx, normalized=True)\n",
    "\n",
    "# Add centrality as a node attribute\n",
    "nx.set_node_attributes(G_nx, centrality, 'centrality')\n",
    "\n",
    "# Visualize centrality on the street network\n",
    "node_colors = [data['centrality'] for _, data in G_nx.nodes(data=True)]\n",
    "ox.plot_graph(G_nx, node_color=node_colors, node_size=20, edge_linewidth=0.5, bgcolor='white')\n"
   ]
  },
  {
   "cell_type": "markdown",
   "id": "712bfa3b-5497-4ca4-a927-7873361a7f3e",
   "metadata": {},
   "source": [
    "## Combining Tessellation with Enclosures"
   ]
  },
  {
   "cell_type": "code",
   "execution_count": null,
   "id": "6f736b8d-1415-49cd-9729-fdef17de4f75",
   "metadata": {},
   "outputs": [],
   "source": [
    "# Generate enclosures based on street network\n",
    "enclosures = momepy.enclosures(edges, limit=boundary)\n",
    "\n",
    "# Plot enclosures\n",
    "fig, ax = plt.subplots(figsize=(10, 10))\n",
    "enclosures.plot(ax=ax, color='lightblue', edgecolor='black', alpha=0.5)\n",
    "edges.plot(ax=ax, color='blue', label='Streets', alpha=0.7)\n",
    "plt.title(\"Enclosed Tessellation with Streets\")\n",
    "plt.legend()\n",
    "plt.show()\n"
   ]
  },
  {
   "cell_type": "markdown",
   "id": "0d32894a-708c-47fa-8cc5-f41bc199f4e6",
   "metadata": {},
   "source": [
    "## Customizing Tessellation for Urban Analysis "
   ]
  },
  {
   "cell_type": "code",
   "execution_count": null,
   "id": "2eea7b7c-b6a3-4363-bdc2-e3271b1c74ce",
   "metadata": {},
   "outputs": [],
   "source": [
    "# Calculate area of tessellation polygons\n",
    "tessellation.tessellation['area'] = tessellation.tessellation.geometry.area\n",
    "\n",
    "# Add diversity metrics\n",
    "tessellation.tessellation['diversity'] = momepy.simpson(tessellation.tessellation['area'])\n",
    "\n",
    "# Plot tessellation with diversity\n",
    "fig, ax = plt.subplots(figsize=(10, 10))\n",
    "tessellation.tessellation.plot(ax=ax, column='diversity', cmap='viridis', legend=True)\n",
    "edges.plot(ax=ax, color='blue', alpha=0.5)\n",
    "plt.title(\"Tessellation with Diversity Metrics\")\n",
    "plt.show()\n"
   ]
  }
 ],
 "metadata": {
  "kernelspec": {
   "display_name": "Python 3 (ipykernel)",
   "language": "python",
   "name": "python3"
  },
  "language_info": {
   "codemirror_mode": {
    "name": "ipython",
    "version": 3
   },
   "file_extension": ".py",
   "mimetype": "text/x-python",
   "name": "python",
   "nbconvert_exporter": "python",
   "pygments_lexer": "ipython3",
   "version": "3.11.7"
  }
 },
 "nbformat": 4,
 "nbformat_minor": 5
}
